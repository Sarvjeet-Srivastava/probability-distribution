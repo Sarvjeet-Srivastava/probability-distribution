{
  "nbformat": 4,
  "nbformat_minor": 0,
  "metadata": {
    "colab": {
      "name": "An Even Easier Introduction to CUDA.ipynb",
      "provenance": [],
      "include_colab_link": true
    },
    "kernelspec": {
      "name": "python3",
      "display_name": "Python 3"
    },
    "language_info": {
      "name": "python"
    },
    "accelerator": "GPU"
  },
  "cells": [
    {
      "cell_type": "markdown",
      "metadata": {
        "id": "view-in-github",
        "colab_type": "text"
      },
      "source": [
        "<a href=\"https://colab.research.google.com/github/Sarvjeet-Srivastava/probability-distribution/blob/master/even-easier-cuda/An_Even_Easier_Introduction_to_CUDA.ipynb\" target=\"_parent\"><img src=\"https://colab.research.google.com/assets/colab-badge.svg\" alt=\"Open In Colab\"/></a>"
      ]
    },
    {
      "cell_type": "markdown",
      "metadata": {
        "id": "2WkOA4mcN7Hj"
      },
      "source": [
        "# An Even Easier Introduction to CUDA"
      ]
    },
    {
      "cell_type": "markdown",
      "metadata": {
        "id": "vuOcUi0fvogW"
      },
      "source": [
        "This notebook accompanies Mark Harris's popular blog post [_An Even Easier Introduction to CUDA_](https://developer.nvidia.com/blog/even-easier-introduction-cuda/).\n",
        "\n",
        "If you enjoy this notebook and want to learn more, the [NVIDIA DLI](https://nvidia.com/dli) offers several in depth CUDA Programming courses.\n",
        "\n",
        "For those of you just starting out, please consider [_Fundamentals of Accelerated Computing with CUDA C/C++_](https://courses.nvidia.com/courses/course-v1:DLI+C-AC-01+V1/about) which provides dedicated GPU resources, a more sophisticated programming environment, use of the [NVIDIA Nsight Systems™](https://developer.nvidia.com/nsight-systems) visual profiler, dozens of interactive exercises, detailed presentations, over 8 hours of material, and the ability to earn a DLI Certificate of Competency.\n",
        "\n",
        "Similarly, for Python programmers, please consider [_Fundamentals of Accelerated Computing with CUDA Python_](https://courses.nvidia.com/courses/course-v1:DLI+C-AC-02+V1/about).\n",
        "\n",
        "For more intermediate and advance CUDA programming materials, please check out the _Accelerated Computing_ section of the NVIDIA DLI [self-paced catalog](https://www.nvidia.com/en-us/training/online/)."
      ]
    },
    {
      "cell_type": "markdown",
      "metadata": {
        "id": "V1C6GK_MO5er"
      },
      "source": [
        "<img src=\"https://developer.download.nvidia.com/training/courses/T-AC-01-V1/CUDA_Cube_1K.jpeg\" width=\"400\">"
      ]
    },
    {
      "cell_type": "markdown",
      "metadata": {
        "id": "IcmbR8lZPLRv"
      },
      "source": [
        "This post is a super simple introduction to CUDA, the popular parallel computing platform and programming model from NVIDIA. I wrote a previous [“Easy Introduction”](https://developer.nvidia.com/blog/easy-introduction-cuda-c-and-c/) to CUDA in 2013 that has been very popular over the years. But CUDA programming has gotten easier, and GPUs have gotten much faster, so it’s time for an updated (and even easier) introduction.\n",
        "\n",
        "CUDA C++ is just one of the ways you can create massively parallel applications with CUDA. It lets you use the powerful C++ programming language to develop high performance algorithms accelerated by thousands of parallel threads running on GPUs. Many developers have accelerated their computation- and bandwidth-hungry applications this way, including the libraries and frameworks that underpin the ongoing revolution in artificial intelligence known as [Deep Learning](https://developer.nvidia.com/deep-learning).\n",
        "\n",
        "So, you’ve heard about CUDA and you are interested in learning how to use it in your own applications. If you are a C or C++ programmer, this blog post should give you a good start. To follow along, you’ll need a computer with an CUDA-capable GPU (Windows, Mac, or Linux, and any NVIDIA GPU should do), or a cloud instance with GPUs (AWS, Azure, IBM SoftLayer, and other cloud service providers have them). You’ll also need the free [CUDA Toolkit](https://developer.nvidia.com/cuda-toolkit) installed.\n",
        "\n",
        "Let's get started!"
      ]
    },
    {
      "cell_type": "markdown",
      "metadata": {
        "id": "vDQ9ycz0Qfyf"
      },
      "source": [
        "<img src=\"https://developer-blogs.nvidia.com/wp-content/uploads/2017/01/cuda_ai_cube-625x625.jpg\" width=\"400\">"
      ]
    },
    {
      "cell_type": "markdown",
      "metadata": {
        "id": "wH9Rfms_QtXF"
      },
      "source": [
        "## Starting Simple"
      ]
    },
    {
      "cell_type": "markdown",
      "metadata": {
        "id": "n5-iUihBQvQt"
      },
      "source": [
        "We’ll start with a simple C++ program that adds the elements of two arrays with a million elements each."
      ]
    },
    {
      "cell_type": "code",
      "metadata": {
        "id": "nc-gBqLDQ7AC"
      },
      "source": [
        "%%writefile add.cpp\n",
        "\n",
        "#include <iostream>\n",
        "#include <math.h>\n",
        "\n",
        "// function to add the elements of two arrays\n",
        "void add(int n, float *x, float *y)\n",
        "{\n",
        "  for (int i = 0; i < n; i++)\n",
        "      y[i] = x[i] + y[i];\n",
        "}\n",
        "\n",
        "int main(void)\n",
        "{\n",
        "  int N = 1<<20; // 1M elements\n",
        "\n",
        "  float *x = new float[N];\n",
        "  float *y = new float[N];\n",
        "\n",
        "  // initialize x and y arrays on the host\n",
        "  for (int i = 0; i < N; i++) {\n",
        "    x[i] = 1.0f;\n",
        "    y[i] = 2.0f;\n",
        "  }\n",
        "\n",
        "  // Run kernel on 1M elements on the CPU\n",
        "  add(N, x, y);\n",
        "\n",
        "  // Check for errors (all values should be 3.0f)\n",
        "  float maxError = 0.0f;\n",
        "  for (int i = 0; i < N; i++)\n",
        "    maxError = fmax(maxError, fabs(y[i]-3.0f));\n",
        "  std::cout << \"Max error: \" << maxError << std::endl;\n",
        "\n",
        "  // Free memory\n",
        "  delete [] x;\n",
        "  delete [] y;\n",
        "\n",
        "  return 0;\n",
        "}"
      ],
      "execution_count": null,
      "outputs": []
    },
    {
      "cell_type": "markdown",
      "metadata": {
        "id": "gw6DsX4uRHMg"
      },
      "source": [
        "Executing the above cell will save its contents to the file add.cpp.\n",
        "\n",
        "The following cell will compile and run this C++ program."
      ]
    },
    {
      "cell_type": "code",
      "metadata": {
        "id": "gNpH54M_RbAU"
      },
      "source": [
        "%%shell\n",
        "g++ add.cpp -o add"
      ],
      "execution_count": null,
      "outputs": []
    },
    {
      "cell_type": "markdown",
      "metadata": {
        "id": "I6V2tGPYRi3l"
      },
      "source": [
        "Then run it:"
      ]
    },
    {
      "cell_type": "code",
      "metadata": {
        "id": "QmA4ACe5RuiU"
      },
      "source": [
        "%%shell\n",
        "./add"
      ],
      "execution_count": null,
      "outputs": []
    },
    {
      "cell_type": "markdown",
      "metadata": {
        "id": "9IAWYlniR153"
      },
      "source": [
        "As expected, it prints that there was no error in the summation and then exits. Now I want to get this computation running (in parallel) on the many cores of a GPU. It’s actually pretty easy to take the first steps.\n",
        "\n",
        "First, I just have to turn our `add` function into a function that the GPU can run, called a *kernel* in CUDA. To do this, all I have to do is add the specifier `__global__` to the function, which tells the CUDA C++ compiler that this is a function that runs on the GPU and can be called from CPU code."
      ]
    },
    {
      "cell_type": "markdown",
      "metadata": {
        "id": "heY-lpzjSHfB"
      },
      "source": [
        "```cpp\n",
        "// CUDA Kernel function to add the elements of two arrays on the GPU\n",
        "__global__\n",
        "void add(int n, float *x, float *y)\n",
        "{\n",
        "  for (int i = 0; i < n; i++)\n",
        "      y[i] = x[i] + y[i];\n",
        "}\n",
        "```"
      ]
    },
    {
      "cell_type": "markdown",
      "metadata": {
        "id": "kozMbHdpSKNu"
      },
      "source": [
        "These `__global__` functions are known as *kernels*, and code that runs on the GPU is often called *device code*, while code that runs on the CPU is *host code*."
      ]
    },
    {
      "cell_type": "markdown",
      "metadata": {
        "id": "VhnBGGU-SWiN"
      },
      "source": [
        "## Memory Allocation in CUDA"
      ]
    },
    {
      "cell_type": "markdown",
      "metadata": {
        "id": "RvIDRBk2SbqA"
      },
      "source": [
        "To compute on the GPU, I need to allocate memory accessible by the GPU. [Unified Memory](https://developer.nvidia.com/blog/unified-memory-in-cuda-6/) in CUDA makes this easy by providing a single memory space accessible by all GPUs and CPUs in your system. To allocate data in unified memory, call `cudaMallocManaged()`, which returns a pointer that you can access from host (CPU) code or device (GPU) code. To free the data, just pass the pointer to `cudaFree()`.\n",
        "\n",
        "I just need to replace the calls to `new` in the code above with calls to `cudaMallocManaged()`, and replace calls to `delete []` with calls to `cudaFree`."
      ]
    },
    {
      "cell_type": "markdown",
      "metadata": {
        "id": "IxCut_urS46H"
      },
      "source": [
        "```cpp\n",
        "  // Allocate Unified Memory -- accessible from CPU or GPU\n",
        "  float *x, *y;\n",
        "  cudaMallocManaged(&x, N*sizeof(float));\n",
        "  cudaMallocManaged(&y, N*sizeof(float));\n",
        "\n",
        "  ...\n",
        "\n",
        "  // Free memory\n",
        "  cudaFree(x);\n",
        "  cudaFree(y);\n",
        "```"
      ]
    },
    {
      "cell_type": "markdown",
      "metadata": {
        "id": "2oEf2B-1S-1V"
      },
      "source": [
        "Finally, I need to *launch* the `add()` kernel, which invokes it on the GPU. CUDA kernel launches are specified using the triple angle bracket syntax `<<< >>>`. I just have to add it to the call to `add` before the parameter list."
      ]
    },
    {
      "cell_type": "markdown",
      "metadata": {
        "id": "bqTJlvWLS7iW"
      },
      "source": [
        "```cpp\n",
        "add<<<1, 1>>>(N, x, y);\n",
        "```"
      ]
    },
    {
      "cell_type": "markdown",
      "metadata": {
        "id": "RGf0ZiTOTTHU"
      },
      "source": [
        "Easy! I’ll get into the details of what goes inside the angle brackets soon; for now all you need to know is that this line launches one GPU thread to run `add()`.\n",
        "\n",
        "Just one more thing: I need the CPU to wait until the kernel is done before it accesses the results (because CUDA kernel launches don’t block the calling CPU thread). To do this I just call `cudaDeviceSynchronize()` before doing the final error checking on the CPU.\n",
        "\n",
        "Here’s the complete code:"
      ]
    },
    {
      "cell_type": "code",
      "metadata": {
        "id": "K8bYDM7kYT7S",
        "colab": {
          "base_uri": "https://localhost:8080/"
        },
        "outputId": "1448a37e-9cd4-4cec-a46a-9b0b6a2fd04d"
      },
      "source": [
        "%%writefile add.cu\n",
        "\n",
        "#include <iostream>\n",
        "#include <math.h>\n",
        "// Kernel function to add the elements of two arrays\n",
        "__global__\n",
        "void add(int n, float *x, float *y)\n",
        "{\n",
        "  for (int i = 0; i < n; i++)\n",
        "    y[i] = x[i] + y[i];\n",
        "}\n",
        "\n",
        "int main(void)\n",
        "{\n",
        "  int N = 1<<20\n",
        " ;\n",
        "  float *x, *y;\n",
        "\n",
        "  // Allocate Unified Memory – accessible from CPU or GPU\n",
        "  cudaMallocManaged(&x, N*sizeof(float));\n",
        "  cudaMallocManaged(&y, N*sizeof(float));\n",
        "\n",
        "  // initialize x and y arrays on the host\n",
        "  for (int i = 0; i < N; i++) {\n",
        "    x[i] = 1.0f;\n",
        "    y[i] = 2.0f;\n",
        "  }\n",
        "\n",
        "  // Run kernel on 1M elements on the GPU\n",
        "  add<<<1, 1>>>(N, x, y);\n",
        "\n",
        "  // Wait for GPU to finish before accessing on host\n",
        "  cudaDeviceSynchronize();\n",
        "\n",
        "  // Check for errors (all values should be 3.0f)\n",
        "  float maxError = 0.0f;\n",
        "  for (int i = 0; i < N; i++)\n",
        "    maxError = fmax(maxError, fabs(y[i]-3.0f));\n",
        "  std::cout << \"Max error: \" << maxError << std::endl;\n",
        "\n",
        "  // Free memory\n",
        "  cudaFree(x);\n",
        "  cudaFree(y);\n",
        "\n",
        "  return 0;\n",
        "}"
      ],
      "execution_count": 35,
      "outputs": [
        {
          "output_type": "stream",
          "name": "stdout",
          "text": [
            "Overwriting add.cu\n"
          ]
        }
      ]
    },
    {
      "cell_type": "code",
      "metadata": {
        "id": "TjLGGp0oYeEc",
        "colab": {
          "base_uri": "https://localhost:8080/"
        },
        "outputId": "b5e33710-4796-4e2c-a948-8edbd30ad917"
      },
      "source": [
        "%%shell\n",
        "\n",
        "nvcc add.cu -o add_cuda\n",
        "./add_cuda"
      ],
      "execution_count": 36,
      "outputs": [
        {
          "output_type": "stream",
          "name": "stdout",
          "text": [
            "Max error: 1\n"
          ]
        },
        {
          "output_type": "execute_result",
          "data": {
            "text/plain": []
          },
          "metadata": {},
          "execution_count": 36
        }
      ]
    },
    {
      "cell_type": "markdown",
      "metadata": {
        "id": "6ATssEzEYqGx"
      },
      "source": [
        "This is only a first step, because as written, this kernel is only correct for a single thread, since every thread that runs it will perform the add on the whole array. Moreover, there is a [race condition](https://en.wikipedia.org/wiki/Race_condition) since multiple parallel threads would both read and write the same locations."
      ]
    },
    {
      "cell_type": "markdown",
      "metadata": {
        "id": "3kKpDoZ-YzJ8"
      },
      "source": [
        "## Profile it!"
      ]
    },
    {
      "cell_type": "markdown",
      "metadata": {
        "id": "r-BC-CWVZglt"
      },
      "source": [
        "I think the simplest way to find out how long the kernel takes to run is to run it with `nvprof`, the command line GPU profiler that comes with the CUDA Toolkit. Just type `nvprof ./add_cuda` on the command line:"
      ]
    },
    {
      "cell_type": "code",
      "metadata": {
        "id": "gtfQLWwYZpfV",
        "colab": {
          "base_uri": "https://localhost:8080/"
        },
        "outputId": "0651fd58-7b2c-48fc-bafd-fdba5613f3ae"
      },
      "source": [
        "%%shell\n",
        "\n",
        "nvprof ./add_cuda"
      ],
      "execution_count": 37,
      "outputs": [
        {
          "output_type": "stream",
          "name": "stdout",
          "text": [
            "==12266== NVPROF is profiling process 12266, command: ./add_cuda\n",
            "Max error: 1\n",
            "==12266== Profiling application: ./add_cuda\n",
            "==12266== Profiling result:\n",
            "No kernels were profiled.\n",
            "            Type  Time(%)      Time     Calls       Avg       Min       Max  Name\n",
            "      API calls:   96.34%  218.57ms         2  109.29ms  42.066us  218.53ms  cudaMallocManaged\n",
            "                    3.43%  7.7772ms         1  7.7772ms  7.7772ms  7.7772ms  cudaLaunchKernel\n",
            "                    0.13%  304.78us         2  152.39us  113.83us  190.95us  cudaFree\n",
            "                    0.08%  189.81us       114  1.6640us     102ns  64.416us  cuDeviceGetAttribute\n",
            "                    0.01%  14.443us         1  14.443us  14.443us  14.443us  cuDeviceGetName\n",
            "                    0.01%  13.230us         1  13.230us  13.230us  13.230us  cudaDeviceSynchronize\n",
            "                    0.00%  6.4390us         1  6.4390us  6.4390us  6.4390us  cuDeviceGetPCIBusId\n",
            "                    0.00%  2.1090us         3     703ns     118ns  1.7580us  cuDeviceGetCount\n",
            "                    0.00%     897ns         2     448ns     210ns     687ns  cuDeviceGet\n",
            "                    0.00%     643ns         1     643ns     643ns     643ns  cuDeviceTotalMem\n",
            "                    0.00%     480ns         1     480ns     480ns     480ns  cuModuleGetLoadingMode\n",
            "                    0.00%     293ns         1     293ns     293ns     293ns  cuDeviceGetUuid\n",
            "\n",
            "==12266== Unified Memory profiling result:\n",
            "Total CPU Page faults: 24\n"
          ]
        },
        {
          "output_type": "execute_result",
          "data": {
            "text/plain": []
          },
          "metadata": {},
          "execution_count": 37
        }
      ]
    },
    {
      "cell_type": "markdown",
      "metadata": {
        "id": "F9Dn4ZV-Z_UJ"
      },
      "source": [
        "The above will show the single call to `add`. Your timing may vary depending on the GPU allocated to you by Colab. To see the current GPU allocated to you run the following cell and look in the `Name` column where you might see, for example `Tesla T4`:"
      ]
    },
    {
      "cell_type": "code",
      "metadata": {
        "id": "TrYmwVZfaPqz",
        "colab": {
          "base_uri": "https://localhost:8080/"
        },
        "outputId": "98fb4cae-4b27-4d29-9886-b677c6aa84cd"
      },
      "source": [
        "%%shell\n",
        "\n",
        "nvidia-smi"
      ],
      "execution_count": 38,
      "outputs": [
        {
          "output_type": "stream",
          "name": "stdout",
          "text": [
            "Thu Oct 16 20:26:35 2025       \n",
            "+-----------------------------------------------------------------------------------------+\n",
            "| NVIDIA-SMI 550.54.15              Driver Version: 550.54.15      CUDA Version: 12.4     |\n",
            "|-----------------------------------------+------------------------+----------------------+\n",
            "| GPU  Name                 Persistence-M | Bus-Id          Disp.A | Volatile Uncorr. ECC |\n",
            "| Fan  Temp   Perf          Pwr:Usage/Cap |           Memory-Usage | GPU-Util  Compute M. |\n",
            "|                                         |                        |               MIG M. |\n",
            "|=========================================+========================+======================|\n",
            "|   0  Tesla T4                       Off |   00000000:00:04.0 Off |                    0 |\n",
            "| N/A   41C    P8              9W /   70W |       0MiB /  15360MiB |      0%      Default |\n",
            "|                                         |                        |                  N/A |\n",
            "+-----------------------------------------+------------------------+----------------------+\n",
            "                                                                                         \n",
            "+-----------------------------------------------------------------------------------------+\n",
            "| Processes:                                                                              |\n",
            "|  GPU   GI   CI        PID   Type   Process name                              GPU Memory |\n",
            "|        ID   ID                                                               Usage      |\n",
            "|=========================================================================================|\n",
            "|  No running processes found                                                             |\n",
            "+-----------------------------------------------------------------------------------------+\n"
          ]
        },
        {
          "output_type": "execute_result",
          "data": {
            "text/plain": []
          },
          "metadata": {},
          "execution_count": 38
        }
      ]
    },
    {
      "cell_type": "markdown",
      "metadata": {
        "id": "-MWYteAVadCs"
      },
      "source": [
        "Let's make it faster with parallelism."
      ]
    },
    {
      "cell_type": "markdown",
      "metadata": {
        "id": "SaiMC73Falvb"
      },
      "source": [
        "## Picking up the Threads"
      ]
    },
    {
      "cell_type": "markdown",
      "metadata": {
        "id": "KDFuBr_2apuJ"
      },
      "source": [
        "Now that you’ve run a kernel with one thread that does some computation, how do you make it parallel? The key is in CUDA’s `<<<1, 1>>>` syntax. This is called the execution configuration, and it tells the CUDA runtime how many parallel threads to use for the launch on the GPU. There are two parameters here, but let’s start by changing the second one: the number of threads in a thread block. CUDA GPUs run kernels using blocks of threads that are a multiple of 32 in size, so 256 threads is a reasonable size to choose."
      ]
    },
    {
      "cell_type": "markdown",
      "metadata": {
        "id": "a2Pmyj0KavgB"
      },
      "source": [
        "```cpp\n",
        "add<<<1, 256>>>(N, x, y);\n",
        "```"
      ]
    },
    {
      "cell_type": "markdown",
      "metadata": {
        "id": "oAYpH9Ctay5G"
      },
      "source": [
        "If I run the code with only this change, it will do the computation once per thread, rather than spreading the computation across the parallel threads. To do it properly, I need to modify the kernel. CUDA C++ provides keywords that let kernels get the indices of the running threads. Specifically, `threadIdx.x` contains the index of the current thread within its block, and `blockDim.x` contains the number of threads in the block. I’ll just modify the loop to stride through the array with parallel threads."
      ]
    },
    {
      "cell_type": "markdown",
      "metadata": {
        "id": "TSiqhFK_a6N3"
      },
      "source": [
        "```cpp\n",
        "__global__\n",
        "void add(int n, float *x, float *y)\n",
        "{\n",
        "  int index = threadIdx.x;\n",
        "  int stride = blockDim.x;\n",
        "  for (int i = index; i < n; i += stride)\n",
        "      y[i] = x[i] + y[i];\n",
        "}\n",
        "```"
      ]
    },
    {
      "cell_type": "markdown",
      "metadata": {
        "id": "_7mYcBzOa9zR"
      },
      "source": [
        "The `add` function hasn’t changed that much. In fact, setting `index` to 0 and `stride` to 1 makes it semantically identical to the first version.\n",
        "\n",
        "Here we save the file as add_block.cu and compile and run it in `nvprof` again."
      ]
    },
    {
      "cell_type": "code",
      "metadata": {
        "id": "goCKY9QNbPZ-",
        "colab": {
          "base_uri": "https://localhost:8080/"
        },
        "outputId": "8b2032fb-8ad8-42da-c03a-b942efcd2269"
      },
      "source": [
        "%%writefile add_block.cu\n",
        "\n",
        "#include <iostream>\n",
        "#include <math.h>\n",
        "\n",
        "// Kernel function to add the elements of two arrays\n",
        "__global__\n",
        "void add(int n, float *x, float *y)\n",
        "{\n",
        "  int index = threadIdx.x;\n",
        "  int stride = blockDim.x;\n",
        "  for (int i = index; i < n; i += stride)\n",
        "      y[i] = x[i] + y[i];\n",
        "}\n",
        "\n",
        "int main(void)\n",
        "{\n",
        "  int N = 1<<20;\n",
        "  float *x, *y;\n",
        "\n",
        "  // Allocate Unified Memory – accessible from CPU or GPU\n",
        "  cudaMallocManaged(&x, N*sizeof(float));\n",
        "  cudaMallocManaged(&y, N*sizeof(float));\n",
        "\n",
        "  // initialize x and y arrays on the host\n",
        "  for (int i = 0; i < N; i++) {\n",
        "    x[i] = 1.0f;\n",
        "    y[i] = 2.0f;\n",
        "  }\n",
        "\n",
        "  // Run kernel on 1M elements on the GPU\n",
        "  add<<<1, 256>>>(N, x, y);\n",
        "\n",
        "  // Wait for GPU to finish before accessing on host\n",
        "  cudaDeviceSynchronize();\n",
        "\n",
        "  // Check for errors (all values should be 3.0f)\n",
        "  float maxError = 0.0f;\n",
        "  for (int i = 0; i < N; i++)\n",
        "    maxError = fmax(maxError, fabs(y[i]-3.0f));\n",
        "  std::cout << \"Max error: \" << maxError << std::endl;\n",
        "\n",
        "  // Free memory\n",
        "  cudaFree(x);\n",
        "  cudaFree(y);\n",
        "\n",
        "  return 0;\n",
        "}"
      ],
      "execution_count": 39,
      "outputs": [
        {
          "output_type": "stream",
          "name": "stdout",
          "text": [
            "Overwriting add_block.cu\n"
          ]
        }
      ]
    },
    {
      "cell_type": "code",
      "metadata": {
        "id": "l9cmfbcVbYgD",
        "colab": {
          "base_uri": "https://localhost:8080/"
        },
        "outputId": "488aed65-a146-4850-92a1-1d7898298af2"
      },
      "source": [
        "%%shell\n",
        "\n",
        "nvcc add_block.cu -o add_block\n",
        "nvprof ./add_block"
      ],
      "execution_count": 40,
      "outputs": [
        {
          "output_type": "stream",
          "name": "stdout",
          "text": [
            "==12427== NVPROF is profiling process 12427, command: ./add_block\n",
            "Max error: 1\n",
            "==12427== Profiling application: ./add_block\n",
            "==12427== Profiling result:\n",
            "No kernels were profiled.\n",
            "            Type  Time(%)      Time     Calls       Avg       Min       Max  Name\n",
            "      API calls:   96.38%  209.89ms         2  104.94ms  55.598us  209.83ms  cudaMallocManaged\n",
            "                    3.38%  7.3642ms         1  7.3642ms  7.3642ms  7.3642ms  cudaLaunchKernel\n",
            "                    0.15%  316.45us         2  158.23us  120.11us  196.34us  cudaFree\n",
            "                    0.07%  150.83us       114  1.3230us     103ns  67.320us  cuDeviceGetAttribute\n",
            "                    0.01%  15.691us         1  15.691us  15.691us  15.691us  cuDeviceGetName\n",
            "                    0.01%  14.576us         1  14.576us  14.576us  14.576us  cudaDeviceSynchronize\n",
            "                    0.00%  6.0720us         1  6.0720us  6.0720us  6.0720us  cuDeviceGetPCIBusId\n",
            "                    0.00%  2.1290us         3     709ns     165ns  1.6920us  cuDeviceGetCount\n",
            "                    0.00%     887ns         2     443ns     137ns     750ns  cuDeviceGet\n",
            "                    0.00%     661ns         1     661ns     661ns     661ns  cuDeviceTotalMem\n",
            "                    0.00%     447ns         1     447ns     447ns     447ns  cuModuleGetLoadingMode\n",
            "                    0.00%     302ns         1     302ns     302ns     302ns  cuDeviceGetUuid\n",
            "\n",
            "==12427== Unified Memory profiling result:\n",
            "Total CPU Page faults: 24\n"
          ]
        },
        {
          "output_type": "execute_result",
          "data": {
            "text/plain": []
          },
          "metadata": {},
          "execution_count": 40
        }
      ]
    },
    {
      "cell_type": "markdown",
      "metadata": {
        "id": "Fo5KaV3Nba7g"
      },
      "source": [
        "That’s a big speedup (compare the time for the `add` kernel by looking at the `GPU activities` field), but not surprising since I went from 1 thread to 256 threads. Let’s keep going to get even more performance."
      ]
    },
    {
      "cell_type": "markdown",
      "metadata": {
        "id": "YtgQWOyMcPfn"
      },
      "source": [
        "## Out of the Blocks"
      ]
    },
    {
      "cell_type": "markdown",
      "metadata": {
        "id": "wAoFGwmbcRbN"
      },
      "source": [
        "CUDA GPUs have many parallel processors grouped into Streaming Multiprocessors, or SMs. Each SM can run multiple concurrent thread blocks. As an example, a Tesla P100 GPU based on the [Pascal GPU Architecture](https://developer.nvidia.com/blog/inside-pascal/) has 56 SMs, each capable of supporting up to 2048 active threads. To take full advantage of all these threads, I should launch the kernel with multiple thread blocks.\n",
        "\n",
        "By now you may have guessed that the first parameter of the execution configuration specifies the number of thread blocks. Together, the blocks of parallel threads make up what is known as the *grid*. Since I have `N` elements to process, and 256 threads per block, I just need to calculate the number of blocks to get at least `N` threads. I simply divide `N` by the block size (being careful to round up in case `N` is not a multiple of `blockSize`)."
      ]
    },
    {
      "cell_type": "markdown",
      "metadata": {
        "id": "AnI2II2ockgC"
      },
      "source": [
        "```cpp\n",
        "int blockSize = 256;\n",
        "int numBlocks = (N + blockSize - 1) / blockSize;\n",
        "add<<<numBlocks, blockSize>>>(N, x, y);\n",
        "```"
      ]
    },
    {
      "cell_type": "markdown",
      "metadata": {
        "id": "ayq2MJZLctY0"
      },
      "source": [
        "<img src=\"https://developer-blogs.nvidia.com/wp-content/uploads/2017/01/cuda_indexing.png\" width=\"800\">"
      ]
    },
    {
      "cell_type": "markdown",
      "metadata": {
        "id": "fZduP7RWc3Je"
      },
      "source": [
        "I also need to update the kernel code to take into account the entire grid of thread blocks. CUDA provides `gridDim.x`, which contains the number of blocks in the grid, and `blockIdx.x`, which contains the index of the current thread block in the grid. Figure 1 illustrates the the approach to indexing into an array (one-dimensional) in CUDA using `blockDim.x`, `gridDim.x`, and `threadIdx.x`. The idea is that each thread gets its index by computing the offset to the beginning of its block (the block index times the block size: `blockIdx.x * blockDim.x`) and adding the thread’s index within the block (`threadIdx.x`). The code `blockIdx.x * blockDim.x + threadIdx.x` is idiomatic CUDA."
      ]
    },
    {
      "cell_type": "markdown",
      "metadata": {
        "id": "6cI2WLEAeG5y"
      },
      "source": [
        "```cpp\n",
        "__global__\n",
        "void add(int n, float *x, float *y)\n",
        "{\n",
        "  int index = blockIdx.x * blockDim.x + threadIdx.x;\n",
        "  int stride = blockDim.x * gridDim.x;\n",
        "  for (int i = index; i < n; i += stride)\n",
        "    y[i] = x[i] + y[i];\n",
        "}\n",
        "```"
      ]
    },
    {
      "cell_type": "markdown",
      "metadata": {
        "id": "83hC-rCLdPHC"
      },
      "source": [
        "The updated kernel also sets stride to the total number of threads in the grid (`blockDim.x * gridDim.x`). This type of loop in a CUDA kernel is often called a [*grid-stride*](https://developer.nvidia.com/blog/cuda-pro-tip-write-flexible-kernels-grid-stride-loops/) loop.\n",
        "\n",
        "Save the file as `add_grid.cu` and compile and run it in `nvprof` again."
      ]
    },
    {
      "cell_type": "code",
      "metadata": {
        "id": "a7w-DHBRdhUC",
        "colab": {
          "base_uri": "https://localhost:8080/"
        },
        "outputId": "54997c98-09d4-4be7-e525-fa47a847abad"
      },
      "source": [
        "%%writefile add_grid.cu\n",
        "\n",
        "#include <iostream>\n",
        "#include <math.h>\n",
        "#include <stdio.h> // Include for printf\n",
        "#include <cuda_runtime.h> // Include for CUDA error checking\n",
        "\n",
        "// Macro for checking CUDA errors\n",
        "#define CUDA_CHECK(call) \\\n",
        "    do { \\\n",
        "        cudaError_t err = call; \\\n",
        "        if (err != cudaSuccess) { \\\n",
        "            fprintf(stderr, \"CUDA error at %s:%d: %s\\n\", __FILE__, __LINE__, cudaGetErrorString(err)); \\\n",
        "            exit(EXIT_FAILURE); \\\n",
        "        } \\\n",
        "    } while (0)\n",
        "\n",
        "// Kernel function to add the elements of two arrays\n",
        "__global__\n",
        "void add(int n, float *x, float *y)\n",
        "{\n",
        "  int index = blockIdx.x * blockDim.x + threadIdx.x;\n",
        "  int stride = blockDim.x * gridDim.x;\n",
        "\n",
        "  // Add printf for debugging (only for a few threads to avoid excessive output)\n",
        "  if (index < 10 || index > n - 10) {\n",
        "      printf(\"Thread %d: blockIdx.x=%d, threadIdx.x=%d, index=%d, n=%d, stride=%d\\n\",\n",
        "             index, blockIdx.x, threadIdx.x, index, n, stride);\n",
        "  }\n",
        "\n",
        "  for (int i = index; i < n; i += stride)\n",
        "    y[i] = x[i] + y[i];\n",
        "}\n",
        "\n",
        "int main(void)\n",
        "{\n",
        "  int N = 1<<20;\n",
        "  float *x, *y;\n",
        "\n",
        "  // Allocate Unified Memory – accessible from CPU or GPU\n",
        "  CUDA_CHECK(cudaMallocManaged(&x, N*sizeof(float)));\n",
        "  CUDA_CHECK(cudaMallocManaged(&y, N*sizeof(float)));\n",
        "\n",
        "  // initialize x and y arrays on the host\n",
        "  for (int i = 0; i < N; i++) {\n",
        "    x[i] = 1.0f;\n",
        "    y[i] = 2.0f;\n",
        "  }\n",
        "\n",
        "  // Run kernel on 1M elements on the GPU\n",
        "  int blockSize = 256;\n",
        "  int numBlocks = (N + blockSize - 1) / blockSize;\n",
        "  add<<<numBlocks, blockSize>>>(N, x, y);\n",
        "  CUDA_CHECK(cudaGetLastError()); // Check for launch errors\n",
        "\n",
        "  // Wait for GPU to finish before accessing on host\n",
        "  CUDA_CHECK(cudaDeviceSynchronize());\n",
        "\n",
        "  // Check for errors (all values should be 3.0f)\n",
        "  float maxError = 0.0f;\n",
        "  for (int i = 0; i < N; i++)\n",
        "    maxError = fmax(maxError, fabs(y[i]-3.0f));\n",
        "  std::cout << \"Max error: \" << maxError << std::endl;\n",
        "\n",
        "  // Free memory\n",
        "  CUDA_CHECK(cudaFree(x));\n",
        "  CUDA_CHECK(cudaFree(y));\n",
        "\n",
        "  return 0;\n",
        "}"
      ],
      "execution_count": 5,
      "outputs": [
        {
          "output_type": "stream",
          "name": "stdout",
          "text": [
            "Overwriting add_grid.cu\n"
          ]
        }
      ]
    },
    {
      "cell_type": "code",
      "metadata": {
        "id": "FhcrktW9dw34",
        "colab": {
          "base_uri": "https://localhost:8080/"
        },
        "outputId": "3684acab-fdb0-47a0-88a1-9f83ff67192a"
      },
      "source": [
        "%%shell\n",
        "\n",
        "nvcc -arch=sm_75 add_grid.cu -o add_grid\n",
        "./add_grid"
      ],
      "execution_count": 7,
      "outputs": [
        {
          "output_type": "stream",
          "name": "stdout",
          "text": [
            "Thread 0: blockIdx.x=0, threadIdx.x=0, index=0, n=1048576, stride=1048576\n",
            "Thread 1: blockIdx.x=0, threadIdx.x=1, index=1, n=1048576, stride=1048576\n",
            "Thread 2: blockIdx.x=0, threadIdx.x=2, index=2, n=1048576, stride=1048576\n",
            "Thread 3: blockIdx.x=0, threadIdx.x=3, index=3, n=1048576, stride=1048576\n",
            "Thread 4: blockIdx.x=0, threadIdx.x=4, index=4, n=1048576, stride=1048576\n",
            "Thread 5: blockIdx.x=0, threadIdx.x=5, index=5, n=1048576, stride=1048576\n",
            "Thread 6: blockIdx.x=0, threadIdx.x=6, index=6, n=1048576, stride=1048576\n",
            "Thread 7: blockIdx.x=0, threadIdx.x=7, index=7, n=1048576, stride=1048576\n",
            "Thread 8: blockIdx.x=0, threadIdx.x=8, index=8, n=1048576, stride=1048576\n",
            "Thread 9: blockIdx.x=0, threadIdx.x=9, index=9, n=1048576, stride=1048576\n",
            "Thread 1048567: blockIdx.x=4095, threadIdx.x=247, index=1048567, n=1048576, stride=1048576\n",
            "Thread 1048568: blockIdx.x=4095, threadIdx.x=248, index=1048568, n=1048576, stride=1048576\n",
            "Thread 1048569: blockIdx.x=4095, threadIdx.x=249, index=1048569, n=1048576, stride=1048576\n",
            "Thread 1048570: blockIdx.x=4095, threadIdx.x=250, index=1048570, n=1048576, stride=1048576\n",
            "Thread 1048571: blockIdx.x=4095, threadIdx.x=251, index=1048571, n=1048576, stride=1048576\n",
            "Thread 1048572: blockIdx.x=4095, threadIdx.x=252, index=1048572, n=1048576, stride=1048576\n",
            "Thread 1048573: blockIdx.x=4095, threadIdx.x=253, index=1048573, n=1048576, stride=1048576\n",
            "Thread 1048574: blockIdx.x=4095, threadIdx.x=254, index=1048574, n=1048576, stride=1048576\n",
            "Thread 1048575: blockIdx.x=4095, threadIdx.x=255, index=1048575, n=1048576, stride=1048576\n",
            "Max error: 0\n"
          ]
        },
        {
          "output_type": "execute_result",
          "data": {
            "text/plain": []
          },
          "metadata": {},
          "execution_count": 7
        }
      ]
    },
    {
      "cell_type": "markdown",
      "metadata": {
        "id": "Y7Tz-xo3d1oX"
      },
      "source": [
        "That's another big speedup from running multiple blocks! (Note your results may vary from the blog post due to whatever GPU you've been allocated by Colab. If you notice your speedups for the final example are not as drastic as those in the blog post, check out #4 in the *Exercises* section below.)"
      ]
    },
    {
      "cell_type": "markdown",
      "metadata": {
        "id": "Ja5CiQZpicHC"
      },
      "source": [
        "## Exercises"
      ]
    },
    {
      "cell_type": "markdown",
      "metadata": {
        "id": "BEijwk25id3t"
      },
      "source": [
        "To keep you going, here are a few things to try on your own.\n",
        "\n",
        "1. Browse the [CUDA Toolkit documentation](https://docs.nvidia.com/cuda/index.html). If you haven’t installed CUDA yet, check out the [Quick Start Guide](https://docs.nvidia.com/cuda/cuda-quick-start-guide/index.html) and the installation guides. Then browse the [Programming Guide](https://docs.nvidia.com/cuda/cuda-c-programming-guide/index.html) and the [Best Practices Guide](https://docs.nvidia.com/cuda/cuda-c-best-practices-guide/index.html). There are also tuning guides for various architectures.\n",
        "2. Experiment with `printf()` inside the kernel. Try printing out the values of `threadIdx.x` and `blockIdx.x` for some or all of the threads. Do they print in sequential order? Why or why not?\n",
        "3. Print the value of `threadIdx.y` or `threadIdx.z` (or `blockIdx.y`) in the kernel. (Likewise for `blockDim` and `gridDim`). Why do these exist? How do you get them to take on values other than 0 (1 for the dims)?\n",
        "4. If you have access to a [Pascal-based GPU](https://developer.nvidia.com/blog/inside-pascal/), try running `add_grid.cu` on it. Is performance better or worse than the K80 results? Why? (Hint: read about [Pascal’s Page Migration Engine and the CUDA 8 Unified Memory API](https://developer.nvidia.com/blog/beyond-gpu-memory-limits-unified-memory-pascal/).) For a detailed answer to this question, see the post [Unified Memory for CUDA Beginners](https://developer.nvidia.com/blog/unified-memory-cuda-beginners/)."
      ]
    },
    {
      "cell_type": "code",
      "source": [
        "%%writefile check_printf.cu\n",
        "\n",
        "#include <iostream>\n",
        "#include <math.h>\n",
        "#include <stdio.h> // Include for printf\n",
        "\n",
        "// Kernel function to add the elements of two arrays\n",
        "__global__\n",
        "void add(int n, float *x, float *y)\n",
        "{\n",
        "  int index = blockIdx.x * blockDim.x + threadIdx.x;\n",
        "  int stride = blockDim.x * gridDim.x;\n",
        "\n",
        "  // Add printf for debugging (only for a few threads to avoid excessive output)\n",
        "  if (index < 10 || index > n - 10) {\n",
        "      printf(\"Thread %d: blockIdx.x=%d, threadIdx.x=%d, index=%d, n=%d, stride=%d\\n\",\n",
        "             index, blockIdx.x, threadIdx.x, index, n, stride);\n",
        "  }\n",
        "\n",
        "  for (int i = index; i < n; i += stride)\n",
        "    y[i] = x[i] + y[i];\n",
        "}\n",
        "\n",
        "int main(void)\n",
        "{\n",
        "  int N = 1<<20;\n",
        "  float *x, *y;\n",
        "\n",
        "  // Allocate Unified Memory – accessible from CPU or GPU\n",
        "  cudaMallocManaged(&x, N*sizeof(float));\n",
        "  cudaMallocManaged(&y, N*sizeof(float));\n",
        "\n",
        "  // initialize x and y arrays on the host\n",
        "  for (int i = 0; i < N; i++) {\n",
        "    x[i] = 1.0f;\n",
        "    y[i] = 2.0f;\n",
        "  }\n",
        "\n",
        "  // Run kernel on 1M elements on the GPU\n",
        "  int blockSize = 256;\n",
        "  int numBlocks = (N + blockSize - 1) / blockSize;\n",
        "  add<<<numBlocks, blockSize>>>(N, x, y);\n",
        "\n",
        "  // Wait for GPU to finish before accessing on host\n",
        "  cudaDeviceSynchronize();\n",
        "\n",
        "  // Check for errors (all values should be 3.0f)\n",
        "  float maxError = 0.0f;\n",
        "  for (int i = 0; i < N; i++)\n",
        "    maxError = fmax(maxError, fabs(y[i]-3.0f));\n",
        "  std::cout << \"Max error: \" << maxError << std::endl;\n",
        "\n",
        "  // Free memory\n",
        "  cudaFree(x);\n",
        "  cudaFree(y);\n",
        "\n",
        "  return 0;\n",
        "}"
      ],
      "metadata": {
        "colab": {
          "base_uri": "https://localhost:8080/"
        },
        "id": "h6um6mPOwBhu",
        "outputId": "4fc6356d-809e-40ed-9270-39d69eafe5e8"
      },
      "execution_count": 8,
      "outputs": [
        {
          "output_type": "stream",
          "name": "stdout",
          "text": [
            "Writing check_printf.cu\n"
          ]
        }
      ]
    },
    {
      "cell_type": "code",
      "source": [
        "%%shell\n",
        "\n",
        "nvcc -arch=sm_75 check_printf.cu -o check_printf\n",
        "nvprof ./check_printf"
      ],
      "metadata": {
        "colab": {
          "base_uri": "https://localhost:8080/"
        },
        "id": "TfVv5hh_wZyu",
        "outputId": "eef6287d-21da-4220-c2ed-590381aa57e9"
      },
      "execution_count": 12,
      "outputs": [
        {
          "output_type": "stream",
          "name": "stdout",
          "text": [
            "==17089== NVPROF is profiling process 17089, command: ./check_printf\n",
            "Thread 0: blockIdx.x=0, threadIdx.x=0, index=0, n=1048576, stride=1048576\n",
            "Thread 1: blockIdx.x=0, threadIdx.x=1, index=1, n=1048576, stride=1048576\n",
            "Thread 2: blockIdx.x=0, threadIdx.x=2, index=2, n=1048576, stride=1048576\n",
            "Thread 3: blockIdx.x=0, threadIdx.x=3, index=3, n=1048576, stride=1048576\n",
            "Thread 4: blockIdx.x=0, threadIdx.x=4, index=4, n=1048576, stride=1048576\n",
            "Thread 5: blockIdx.x=0, threadIdx.x=5, index=5, n=1048576, stride=1048576\n",
            "Thread 6: blockIdx.x=0, threadIdx.x=6, index=6, n=1048576, stride=1048576\n",
            "Thread 7: blockIdx.x=0, threadIdx.x=7, index=7, n=1048576, stride=1048576\n",
            "Thread 8: blockIdx.x=0, threadIdx.x=8, index=8, n=1048576, stride=1048576\n",
            "Thread 9: blockIdx.x=0, threadIdx.x=9, index=9, n=1048576, stride=1048576\n",
            "Thread 1048567: blockIdx.x=4095, threadIdx.x=247, index=1048567, n=1048576, stride=1048576\n",
            "Thread 1048568: blockIdx.x=4095, threadIdx.x=248, index=1048568, n=1048576, stride=1048576\n",
            "Thread 1048569: blockIdx.x=4095, threadIdx.x=249, index=1048569, n=1048576, stride=1048576\n",
            "Thread 1048570: blockIdx.x=4095, threadIdx.x=250, index=1048570, n=1048576, stride=1048576\n",
            "Thread 1048571: blockIdx.x=4095, threadIdx.x=251, index=1048571, n=1048576, stride=1048576\n",
            "Thread 1048572: blockIdx.x=4095, threadIdx.x=252, index=1048572, n=1048576, stride=1048576\n",
            "Thread 1048573: blockIdx.x=4095, threadIdx.x=253, index=1048573, n=1048576, stride=1048576\n",
            "Thread 1048574: blockIdx.x=4095, threadIdx.x=254, index=1048574, n=1048576, stride=1048576\n",
            "Thread 1048575: blockIdx.x=4095, threadIdx.x=255, index=1048575, n=1048576, stride=1048576\n",
            "Max error: 0\n",
            "==17089== Profiling application: ./check_printf\n",
            "==17089== Profiling result:\n",
            "            Type  Time(%)      Time     Calls       Avg       Min       Max  Name\n",
            " GPU activities:  100.00%  4.6149ms         1  4.6149ms  4.6149ms  4.6149ms  add(int, float*, float*)\n",
            "      API calls:   96.61%  233.76ms         2  116.88ms  53.358us  233.71ms  cudaMallocManaged\n",
            "                    1.96%  4.7449ms         1  4.7449ms  4.7449ms  4.7449ms  cudaDeviceSynchronize\n",
            "                    1.14%  2.7558ms         1  2.7558ms  2.7558ms  2.7558ms  cudaLaunchKernel\n",
            "                    0.20%  494.76us         2  247.38us  208.15us  286.61us  cudaFree\n",
            "                    0.07%  179.12us       114  1.5710us     141ns  71.057us  cuDeviceGetAttribute\n",
            "                    0.01%  16.131us         1  16.131us  16.131us  16.131us  cuDeviceGetName\n",
            "                    0.00%  6.1440us         1  6.1440us  6.1440us  6.1440us  cuDeviceGetPCIBusId\n",
            "                    0.00%  2.0110us         3     670ns     247ns  1.4860us  cuDeviceGetCount\n",
            "                    0.00%     793ns         2     396ns     170ns     623ns  cuDeviceGet\n",
            "                    0.00%     685ns         1     685ns     685ns     685ns  cuDeviceTotalMem\n",
            "                    0.00%     453ns         1     453ns     453ns     453ns  cuDeviceGetUuid\n",
            "                    0.00%     452ns         1     452ns     452ns     452ns  cuModuleGetLoadingMode\n",
            "\n",
            "==17089== Unified Memory profiling result:\n",
            "Device \"Tesla T4 (0)\"\n",
            "   Count  Avg Size  Min Size  Max Size  Total Size  Total Time  Name\n",
            "      94  87.148KB  4.0000KB  968.00KB  8.000000MB  932.5220us  Host To Device\n",
            "      24  170.67KB  4.0000KB  0.9961MB  4.000000MB  361.7520us  Device To Host\n",
            "      11         -         -         -           -  4.418300ms  Gpu page fault groups\n",
            "Total CPU Page faults: 36\n"
          ]
        },
        {
          "output_type": "execute_result",
          "data": {
            "text/plain": []
          },
          "metadata": {},
          "execution_count": 12
        }
      ]
    },
    {
      "cell_type": "code",
      "source": [
        "%%writefile check_printf2.cu\n",
        "\n",
        "#include <iostream>\n",
        "#include <math.h>\n",
        "#include <stdio.h> // Include for printf\n",
        "#include <cuda_runtime.h> // Include for CUDA error checking\n",
        "\n",
        "// Macro for checking CUDA errors\n",
        "#define CUDA_CHECK(call) \\\n",
        "    do { \\\n",
        "        cudaError_t err = call; \\\n",
        "        if (err != cudaSuccess) { \\\n",
        "            fprintf(stderr, \"CUDA error at %s:%d: %s\\n\", __FILE__, __LINE__, cudaGetErrorString(err)); \\\n",
        "            exit(EXIT_FAILURE); \\\n",
        "        } \\\n",
        "    } while (0)\n",
        "\n",
        "// Kernel function to add the elements of two arrays\n",
        "__global__\n",
        "void add(int n, float *x, float *y)\n",
        "{\n",
        "  // Calculate 1D index from 2D block and thread indices\n",
        "  int blockId = blockIdx.x + blockIdx.y * gridDim.x;\n",
        "  int threadId = threadIdx.x + threadIdx.y * blockDim.x;\n",
        "  int index = blockId * (blockDim.x * blockDim.y) + threadId;\n",
        "\n",
        "  int stride = gridDim.x * gridDim.y * blockDim.x * blockDim.y;\n",
        "\n",
        "  // Add printf for debugging (only for a few threads to avoid excessive output)\n",
        "  if (index < 20 || index > n - 20) {\n",
        "      printf(\"Thread (%d, %d): blockIdx=(%d, %d), threadIdx=(%d, %d), index=%d, n=%d, stride=%d, blockDim=(%d, %d), gridDim=(%d, %d)\\n\",\n",
        "             threadIdx.x, threadIdx.y, blockIdx.x, blockIdx.y, threadIdx.x, threadIdx.y, index, n, stride, blockDim.x, blockDim.y, gridDim.x, gridDim.y);\n",
        "  }\n",
        "\n",
        "  // Ensure index is within bounds\n",
        "  if (index < n) {\n",
        "    y[index] = x[index] + y[index];\n",
        "  }\n",
        "}\n",
        "\n",
        "int main(void)\n",
        "{\n",
        "  int N = 1<<20;\n",
        "  float *x, *y;\n",
        "\n",
        "  // Allocate Unified Memory – accessible from CPU or GPU\n",
        "  CUDA_CHECK(cudaMallocManaged(&x, N*sizeof(float)));\n",
        "  CUDA_CHECK(cudaMallocManaged(&y, N*sizeof(float)));\n",
        "\n",
        "  // initialize x and y arrays on the host\n",
        "  for (int i = 0; i < N; i++) {\n",
        "    x[i] = 1.0f;\n",
        "    y[i] = 2.0f;\n",
        "  }\n",
        "\n",
        "  // Run kernel on 1M elements on the GPU with 2D grid and block\n",
        "  int blockDimX = 16;\n",
        "  int blockDimY = 16; // Using a 16x16 thread block (256 threads)\n",
        "  dim3 blockSize(blockDimX, blockDimY);\n",
        "\n",
        "  int gridDimX = (N + (blockDimX * blockDimY) - 1) / (blockDimX * blockDimY);\n",
        "  int gridDimY = 1; // For simplicity, keep grid 1D in y for now\n",
        "\n",
        "  // To demonstrate 2D grid, let's make gridDimX and gridDimY such that total blocks are sufficient\n",
        "  int totalThreadsPerBlock = blockDimX * blockDimY;\n",
        "  int totalBlocks = (N + totalThreadsPerBlock - 1) / totalThreadsPerBlock;\n",
        "  gridDimX = 64; // Example: use a 64x64 grid of blocks\n",
        "  gridDimY = 64;\n",
        "  if (gridDimX * gridDimY < totalBlocks) {\n",
        "      // Adjust grid dimensions if needed to cover all elements\n",
        "      // A more robust calculation would be needed for a truly flexible 2D grid\n",
        "      gridDimX = (totalBlocks + gridDimY - 1) / gridDimY;\n",
        "  }\n",
        "  dim3 numBlocks(gridDimX, gridDimY);\n",
        "\n",
        "\n",
        "  add<<<numBlocks, blockSize>>>(N, x, y);\n",
        "  CUDA_CHECK(cudaGetLastError()); // Check for launch errors\n",
        "\n",
        "  // Wait for GPU to finish before accessing on host\n",
        "  CUDA_CHECK(cudaDeviceSynchronize());\n",
        "\n",
        "  // Check for errors (all values should be 3.0f)\n",
        "  float maxError = 0.0f;\n",
        "  for (int i = 0; i < N; i++)\n",
        "    maxError = fmax(maxError, fabs(y[i]-3.0f));\n",
        "  std::cout << \"Max error: \" << maxError << std::endl;\n",
        "\n",
        "  // Free memory\n",
        "  CUDA_CHECK(cudaFree(x));\n",
        "  CUDA_CHECK(cudaFree(y));\n",
        "\n",
        "  return 0;\n",
        "}"
      ],
      "metadata": {
        "colab": {
          "base_uri": "https://localhost:8080/"
        },
        "id": "fs2b8fxexfpw",
        "outputId": "18e14137-e487-4cb1-aac6-586d8ee18655"
      },
      "execution_count": 13,
      "outputs": [
        {
          "output_type": "stream",
          "name": "stdout",
          "text": [
            "Writing check_printf2.cu\n"
          ]
        }
      ]
    },
    {
      "cell_type": "code",
      "source": [
        "%%shell\n",
        "\n",
        "nvcc -arch=sm_75 check_printf2.cu -o check_printf2\n",
        "nvprof ./check_printf2"
      ],
      "metadata": {
        "colab": {
          "base_uri": "https://localhost:8080/"
        },
        "id": "MA8bzusgxk8d",
        "outputId": "064dc375-3e8b-4c32-80a3-8efc9f122f01"
      },
      "execution_count": 14,
      "outputs": [
        {
          "output_type": "stream",
          "name": "stdout",
          "text": [
            "==18107== NVPROF is profiling process 18107, command: ./check_printf2\n",
            "Thread (0, 0): blockIdx=(0, 0), threadIdx=(0, 0), index=0, n=1048576, stride=1048576, blockDim=(16, 16), gridDim=(64, 64)\n",
            "Thread (1, 0): blockIdx=(0, 0), threadIdx=(1, 0), index=1, n=1048576, stride=1048576, blockDim=(16, 16), gridDim=(64, 64)\n",
            "Thread (2, 0): blockIdx=(0, 0), threadIdx=(2, 0), index=2, n=1048576, stride=1048576, blockDim=(16, 16), gridDim=(64, 64)\n",
            "Thread (3, 0): blockIdx=(0, 0), threadIdx=(3, 0), index=3, n=1048576, stride=1048576, blockDim=(16, 16), gridDim=(64, 64)\n",
            "Thread (4, 0): blockIdx=(0, 0), threadIdx=(4, 0), index=4, n=1048576, stride=1048576, blockDim=(16, 16), gridDim=(64, 64)\n",
            "Thread (5, 0): blockIdx=(0, 0), threadIdx=(5, 0), index=5, n=1048576, stride=1048576, blockDim=(16, 16), gridDim=(64, 64)\n",
            "Thread (6, 0): blockIdx=(0, 0), threadIdx=(6, 0), index=6, n=1048576, stride=1048576, blockDim=(16, 16), gridDim=(64, 64)\n",
            "Thread (7, 0): blockIdx=(0, 0), threadIdx=(7, 0), index=7, n=1048576, stride=1048576, blockDim=(16, 16), gridDim=(64, 64)\n",
            "Thread (8, 0): blockIdx=(0, 0), threadIdx=(8, 0), index=8, n=1048576, stride=1048576, blockDim=(16, 16), gridDim=(64, 64)\n",
            "Thread (9, 0): blockIdx=(0, 0), threadIdx=(9, 0), index=9, n=1048576, stride=1048576, blockDim=(16, 16), gridDim=(64, 64)\n",
            "Thread (10, 0): blockIdx=(0, 0), threadIdx=(10, 0), index=10, n=1048576, stride=1048576, blockDim=(16, 16), gridDim=(64, 64)\n",
            "Thread (11, 0): blockIdx=(0, 0), threadIdx=(11, 0), index=11, n=1048576, stride=1048576, blockDim=(16, 16), gridDim=(64, 64)\n",
            "Thread (12, 0): blockIdx=(0, 0), threadIdx=(12, 0), index=12, n=1048576, stride=1048576, blockDim=(16, 16), gridDim=(64, 64)\n",
            "Thread (13, 0): blockIdx=(0, 0), threadIdx=(13, 0), index=13, n=1048576, stride=1048576, blockDim=(16, 16), gridDim=(64, 64)\n",
            "Thread (14, 0): blockIdx=(0, 0), threadIdx=(14, 0), index=14, n=1048576, stride=1048576, blockDim=(16, 16), gridDim=(64, 64)\n",
            "Thread (15, 0): blockIdx=(0, 0), threadIdx=(15, 0), index=15, n=1048576, stride=1048576, blockDim=(16, 16), gridDim=(64, 64)\n",
            "Thread (0, 1): blockIdx=(0, 0), threadIdx=(0, 1), index=16, n=1048576, stride=1048576, blockDim=(16, 16), gridDim=(64, 64)\n",
            "Thread (1, 1): blockIdx=(0, 0), threadIdx=(1, 1), index=17, n=1048576, stride=1048576, blockDim=(16, 16), gridDim=(64, 64)\n",
            "Thread (2, 1): blockIdx=(0, 0), threadIdx=(2, 1), index=18, n=1048576, stride=1048576, blockDim=(16, 16), gridDim=(64, 64)\n",
            "Thread (3, 1): blockIdx=(0, 0), threadIdx=(3, 1), index=19, n=1048576, stride=1048576, blockDim=(16, 16), gridDim=(64, 64)\n",
            "Thread (13, 14): blockIdx=(63, 63), threadIdx=(13, 14), index=1048557, n=1048576, stride=1048576, blockDim=(16, 16), gridDim=(64, 64)\n",
            "Thread (14, 14): blockIdx=(63, 63), threadIdx=(14, 14), index=1048558, n=1048576, stride=1048576, blockDim=(16, 16), gridDim=(64, 64)\n",
            "Thread (15, 14): blockIdx=(63, 63), threadIdx=(15, 14), index=1048559, n=1048576, stride=1048576, blockDim=(16, 16), gridDim=(64, 64)\n",
            "Thread (0, 15): blockIdx=(63, 63), threadIdx=(0, 15), index=1048560, n=1048576, stride=1048576, blockDim=(16, 16), gridDim=(64, 64)\n",
            "Thread (1, 15): blockIdx=(63, 63), threadIdx=(1, 15), index=1048561, n=1048576, stride=1048576, blockDim=(16, 16), gridDim=(64, 64)\n",
            "Thread (2, 15): blockIdx=(63, 63), threadIdx=(2, 15), index=1048562, n=1048576, stride=1048576, blockDim=(16, 16), gridDim=(64, 64)\n",
            "Thread (3, 15): blockIdx=(63, 63), threadIdx=(3, 15), index=1048563, n=1048576, stride=1048576, blockDim=(16, 16), gridDim=(64, 64)\n",
            "Thread (4, 15): blockIdx=(63, 63), threadIdx=(4, 15), index=1048564, n=1048576, stride=1048576, blockDim=(16, 16), gridDim=(64, 64)\n",
            "Thread (5, 15): blockIdx=(63, 63), threadIdx=(5, 15), index=1048565, n=1048576, stride=1048576, blockDim=(16, 16), gridDim=(64, 64)\n",
            "Thread (6, 15): blockIdx=(63, 63), threadIdx=(6, 15), index=1048566, n=1048576, stride=1048576, blockDim=(16, 16), gridDim=(64, 64)\n",
            "Thread (7, 15): blockIdx=(63, 63), threadIdx=(7, 15), index=1048567, n=1048576, stride=1048576, blockDim=(16, 16), gridDim=(64, 64)\n",
            "Thread (8, 15): blockIdx=(63, 63), threadIdx=(8, 15), index=1048568, n=1048576, stride=1048576, blockDim=(16, 16), gridDim=(64, 64)\n",
            "Thread (9, 15): blockIdx=(63, 63), threadIdx=(9, 15), index=1048569, n=1048576, stride=1048576, blockDim=(16, 16), gridDim=(64, 64)\n",
            "Thread (10, 15): blockIdx=(63, 63), threadIdx=(10, 15), index=1048570, n=1048576, stride=1048576, blockDim=(16, 16), gridDim=(64, 64)\n",
            "Thread (11, 15): blockIdx=(63, 63), threadIdx=(11, 15), index=1048571, n=1048576, stride=1048576, blockDim=(16, 16), gridDim=(64, 64)\n",
            "Thread (12, 15): blockIdx=(63, 63), threadIdx=(12, 15), index=1048572, n=1048576, stride=1048576, blockDim=(16, 16), gridDim=(64, 64)\n",
            "Thread (13, 15): blockIdx=(63, 63), threadIdx=(13, 15), index=1048573, n=1048576, stride=1048576, blockDim=(16, 16), gridDim=(64, 64)\n",
            "Thread (14, 15): blockIdx=(63, 63), threadIdx=(14, 15), index=1048574, n=1048576, stride=1048576, blockDim=(16, 16), gridDim=(64, 64)\n",
            "Thread (15, 15): blockIdx=(63, 63), threadIdx=(15, 15), index=1048575, n=1048576, stride=1048576, blockDim=(16, 16), gridDim=(64, 64)\n",
            "Max error: 0\n",
            "==18107== Profiling application: ./check_printf2\n",
            "==18107== Profiling result:\n",
            "            Type  Time(%)      Time     Calls       Avg       Min       Max  Name\n",
            " GPU activities:  100.00%  2.6552ms         1  2.6552ms  2.6552ms  2.6552ms  add(int, float*, float*)\n",
            "      API calls:   97.13%  214.65ms         2  107.32ms  56.159us  214.59ms  cudaMallocManaged\n",
            "                    1.33%  2.9341ms         1  2.9341ms  2.9341ms  2.9341ms  cudaDeviceSynchronize\n",
            "                    1.25%  2.7662ms         1  2.7662ms  2.7662ms  2.7662ms  cudaLaunchKernel\n",
            "                    0.21%  456.76us         2  228.38us  221.76us  234.99us  cudaFree\n",
            "                    0.07%  152.92us       114  1.3410us     104ns  69.342us  cuDeviceGetAttribute\n",
            "                    0.01%  24.987us         1  24.987us  24.987us  24.987us  cuDeviceGetPCIBusId\n",
            "                    0.01%  14.086us         1  14.086us  14.086us  14.086us  cuDeviceGetName\n",
            "                    0.00%  1.8170us         3     605ns     111ns  1.4830us  cuDeviceGetCount\n",
            "                    0.00%     788ns         2     394ns     135ns     653ns  cuDeviceGet\n",
            "                    0.00%     664ns         1     664ns     664ns     664ns  cudaGetLastError\n",
            "                    0.00%     649ns         1     649ns     649ns     649ns  cuDeviceTotalMem\n",
            "                    0.00%     306ns         1     306ns     306ns     306ns  cuModuleGetLoadingMode\n",
            "                    0.00%     292ns         1     292ns     292ns     292ns  cuDeviceGetUuid\n",
            "\n",
            "==18107== Unified Memory profiling result:\n",
            "Device \"Tesla T4 (0)\"\n",
            "   Count  Avg Size  Min Size  Max Size  Total Size  Total Time  Name\n",
            "     122  67.148KB  4.0000KB  968.00KB  8.000000MB  981.4830us  Host To Device\n",
            "      24  170.67KB  4.0000KB  0.9961MB  4.000000MB  361.6550us  Device To Host\n",
            "      10         -         -         -           -  2.373260ms  Gpu page fault groups\n",
            "Total CPU Page faults: 36\n"
          ]
        },
        {
          "output_type": "execute_result",
          "data": {
            "text/plain": []
          },
          "metadata": {},
          "execution_count": 14
        }
      ]
    },
    {
      "cell_type": "markdown",
      "metadata": {
        "id": "NpWVnIPujp0K"
      },
      "source": [
        "## Where to From Here"
      ]
    },
    {
      "cell_type": "markdown",
      "metadata": {
        "id": "nTyQePjlkRJ3"
      },
      "source": [
        "If you enjoyed this notebook and want to learn more, the [NVIDIA DLI](https://nvidia.com/dli) offers several in depth CUDA Programming courses.\n",
        "\n",
        "For those of you just starting out, please consider [_Fundamentals of Accelerated Computing with CUDA C/C++_](https://courses.nvidia.com/courses/course-v1:DLI+C-AC-01+V1/about) which provides dedicated GPU resources, a more sophisticated programming environment, use of the [NVIDIA Nsight Systems™](https://developer.nvidia.com/nsight-systems) visual profiler, dozens of interactive exercises, detailed presentations, over 8 hours of material, and the ability to earn a DLI Certificate of Competency.\n",
        "\n",
        "Similarly, for Python programmers, please consider [_Fundamentals of Accelerated Computing with CUDA Python_](https://courses.nvidia.com/courses/course-v1:DLI+C-AC-02+V1/about).\n",
        "\n",
        "For more intermediate and advance CUDA programming materials, please check out the _Accelerated Computing_ section of the NVIDIA DLI [self-paced catalog](https://www.nvidia.com/en-us/training/online/)."
      ]
    }
  ]
}